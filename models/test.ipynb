{
 "cells": [
  {
   "cell_type": "code",
   "execution_count": 1,
   "metadata": {},
   "outputs": [],
   "source": [
    "import os"
   ]
  },
  {
   "cell_type": "code",
   "execution_count": 2,
   "metadata": {},
   "outputs": [
    {
     "name": "stdout",
     "output_type": "stream",
     "text": [
      "['ม่อนธารารีสอร์ทล่าสุด - พ.ค. 66.csv', 'ม่อนธารารีสอร์ทล่าสุด - พ.ค. 67.csv', 'ม่อนธารารีสอร์ทล่าสุด - ธ.ค. 67.csv', 'ม่อนธารารีสอร์ทล่าสุด - ก.ย. 66.csv', 'ม่อนธารารีสอร์ทล่าสุด - ก.ย. 67.csv', 'ม่อนธารารีสอร์ทล่าสุด - ธ.ค. 66.csv', 'ม่อนธารารีสอร์ทล่าสุด - ต.ค. 67.csv', 'ม่อนธารารีสอร์ทล่าสุด - ต.ค. 66.csv', 'ม่อนธารารีสอร์ทล่าสุด - พ.ย. 66.csv', 'ม่อนธารารีสอร์ทล่าสุด - พ.ย. 67.csv', 'ม่อนธารารีสอร์ทล่าสุด - มิ.ย. 66.csv', 'ม่อนธารารีสอร์ทล่าสุด - มิ.ย. 67.csv', 'ม่อนธารารีสอร์ทล่าสุด - ก.ค. 66.csv', 'ม่อนธารารีสอร์ทล่าสุด - มี.ค. 66.csv', 'ม่อนธารารีสอร์ทล่าสุด - มี.ค. 67.csv', 'ม่อนธารารีสอร์ทล่าสุด - ก.ค. 67.csv', 'ม่อนธารารีสอร์ทล่าสุด - ส.ค. 66.csv', 'ม่อนธารารีสอร์ทล่าสุด - เม.ย. 67.csv', 'ม่อนธารารีสอร์ทล่าสุด - เม.ย. 66.csv', 'ม่อนธารารีสอร์ทล่าสุด - ส.ค. 67.csv', 'ม่อนธารารีสอร์ทล่าสุด - ม.ค. 67.csv', 'ม่อนธารารีสอร์ทล่าสุด - ม.ค. 66.csv', 'ม่อนธารารีสอร์ทล่าสุด - ก.พ. 67.csv', 'ม่อนธารารีสอร์ทล่าสุด - ก.พ. 66.csv']\n"
     ]
    }
   ],
   "source": [
    "print(os.listdir(\"/Users/theeratdolchat/Documents/montara_occ\"))"
   ]
  },
  {
   "cell_type": "code",
   "execution_count": 5,
   "metadata": {},
   "outputs": [],
   "source": [
    "# month_list = ['ม.ค. 66', 'ก.พ. 66', 'มี.ค. 66', 'เม.ย. 66', 'พ.ค. 66', 'มิ.ย. 66', 'ก.ค. 66', 'ส.ค. 66', 'ก.ย. 66', 'ต.ค. 66', 'พ.ย. 66', 'ธ.ค. 66']\n",
    "month_list = ['ม.ค. 67', 'ก.พ. 67', 'มี.ค. 67', 'เม.ย. 67', 'พ.ค. 67', 'มิ.ย. 67', 'ก.ค. 67', 'ส.ค. 67', 'ก.ย. 67', 'ต.ค. 67', 'พ.ย. 67', 'ธ.ค. 67']"
   ]
  },
  {
   "cell_type": "code",
   "execution_count": 6,
   "metadata": {},
   "outputs": [
    {
     "name": "stdout",
     "output_type": "stream",
     "text": [
      "         วันที่  จำนวนห้อง  accuracy\n",
      "0    01/01/2024        0.0      0.00\n",
      "1    02/01/2024        0.0      0.00\n",
      "2    03/01/2024        0.0      0.00\n",
      "3    04/01/2024        1.0      0.12\n",
      "4    05/01/2024        2.0      0.25\n",
      "..          ...        ...       ...\n",
      "395  29/12/2024        8.0      1.00\n",
      "396  30/12/2024        8.0      1.00\n",
      "397  31/12/2024        8.0      1.00\n",
      "398         NaN        NaN       NaN\n",
      "399         NaN        NaN       NaN\n",
      "\n",
      "[400 rows x 3 columns]\n"
     ]
    }
   ],
   "source": [
    "import os\n",
    "import pandas as pd\n",
    "\n",
    "# กำหนดโฟลเดอร์ที่เก็บไฟล์ CSV\n",
    "folder_path = '/Users/theeratdolchat/Documents/montara_occ'\n",
    "\n",
    "final_df = pd.DataFrame()\n",
    "\n",
    "for month in month_list:\n",
    "    file_path = os.path.join(folder_path, f'ม่อนธารารีสอร์ทล่าสุด - {month}.csv')\n",
    "    df = pd.read_csv(file_path)\n",
    "    # print(f\"Column names in {month}:\", df.columns.tolist())\n",
    "    df.loc[:, 'วันที่'] = pd.to_datetime(df['วันที่'], format='%d/%m/%y').dt.strftime('%d/%m/%Y')\n",
    "    df.loc[:, 'accuracy'] = (df['จำนวนห้อง'] / 800 * 100).round(2)\n",
    "    df_selected = df[['วันที่', 'จำนวนห้อง', 'accuracy']]\n",
    "    final_df = pd.concat([final_df, df_selected], ignore_index=True)\n",
    "\n",
    "print(final_df)\n",
    "file_path = \"booking_trend_2024.csv\"\n",
    "final_df.to_csv(file_path, index=False)"
   ]
  },
  {
   "cell_type": "code",
   "execution_count": null,
   "metadata": {},
   "outputs": [],
   "source": []
  }
 ],
 "metadata": {
  "kernelspec": {
   "display_name": ".venv",
   "language": "python",
   "name": "python3"
  },
  "language_info": {
   "codemirror_mode": {
    "name": "ipython",
    "version": 3
   },
   "file_extension": ".py",
   "mimetype": "text/x-python",
   "name": "python",
   "nbconvert_exporter": "python",
   "pygments_lexer": "ipython3",
   "version": "3.13.2"
  }
 },
 "nbformat": 4,
 "nbformat_minor": 2
}
